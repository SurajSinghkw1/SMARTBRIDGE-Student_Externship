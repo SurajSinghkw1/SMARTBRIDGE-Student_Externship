{
  "nbformat": 4,
  "nbformat_minor": 0,
  "metadata": {
    "colab": {
      "provenance": [],
      "gpuType": "T4"
    },
    "kernelspec": {
      "name": "python3",
      "display_name": "Python 3"
    },
    "language_info": {
      "name": "python"
    },
    "accelerator": "GPU"
  },
  "cells": [
    {
      "cell_type": "markdown",
      "source": [
        "#PYTHON METHODS"
      ],
      "metadata": {
        "id": "KPBPUwC7TcTb"
      }
    },
    {
      "cell_type": "markdown",
      "source": [
        "#INTEGER"
      ],
      "metadata": {
        "id": "Ql-jrbsukInn"
      }
    },
    {
      "cell_type": "code",
      "source": [
        "#Arithmetic function of integers\n",
        "a = 42\n",
        "b = 7"
      ],
      "metadata": {
        "id": "CJuo4aRbiyZm"
      },
      "execution_count": 17,
      "outputs": []
    },
    {
      "cell_type": "code",
      "source": [
        "r = a + b\n",
        "print(\"Addition\",r)\n",
        "\n",
        "r = a - b\n",
        "print(\"Subtraction\",r)\n",
        "\n",
        "r = a * b\n",
        "print(\"Multiplication\",r)\n",
        "\n",
        "r = a / b\n",
        "print(\"Division\",r)\n",
        "\n",
        "r = a // b\n",
        "print(\"Floor Division\",r)\n",
        "\n",
        "r = a % b\n",
        "print(\"Reminder\",r)\n",
        "\n",
        "r = a ** b\n",
        "print(\"Power\",r)\n",
        "\n",
        "r = abs(a)\n",
        "print(\"Absolute \",r)"
      ],
      "metadata": {
        "id": "9LKr8Ofbjfty",
        "outputId": "ec8041a9-b58b-4b08-cfe9-9898966b562c",
        "colab": {
          "base_uri": "https://localhost:8080/"
        }
      },
      "execution_count": 18,
      "outputs": [
        {
          "output_type": "stream",
          "name": "stdout",
          "text": [
            "Addition 49\n",
            "Subtraction 35\n",
            "Multiplication 294\n",
            "Division 6.0\n",
            "Floor Division 6\n",
            "Reminder 0\n",
            "Power 230539333248\n",
            "Absolute  42\n"
          ]
        }
      ]
    },
    {
      "cell_type": "markdown",
      "source": [
        "#FLOAT"
      ],
      "metadata": {
        "id": "g9MFfGAil0_y"
      }
    },
    {
      "cell_type": "code",
      "source": [
        "#float.as_integer_ratio()\n",
        "X = 2.75\n",
        "r = X.as_integer_ratio()\n",
        "print(r)"
      ],
      "metadata": {
        "id": "KG22PoBrmEe-",
        "outputId": "823c39f6-e183-461b-d689-24f4c38dfe45",
        "colab": {
          "base_uri": "https://localhost:8080/"
        }
      },
      "execution_count": 9,
      "outputs": [
        {
          "output_type": "stream",
          "name": "stdout",
          "text": [
            "(11, 4)\n"
          ]
        }
      ]
    },
    {
      "cell_type": "code",
      "source": [
        "#float.conjugate()\n",
        "f = 5.5\n",
        "print(f.conjugate())"
      ],
      "metadata": {
        "id": "XfnONDDymc6T",
        "outputId": "aad349f8-a555-467a-b0af-827efbe85fe6",
        "colab": {
          "base_uri": "https://localhost:8080/"
        }
      },
      "execution_count": 10,
      "outputs": [
        {
          "output_type": "stream",
          "name": "stdout",
          "text": [
            "5.5\n"
          ]
        }
      ]
    },
    {
      "cell_type": "code",
      "source": [
        "#float.fromhex(s)\n",
        "s = \"0x1.91eb851eb851fp+1\"\n",
        "a = float.fromhex(s)\n",
        "print(a)"
      ],
      "metadata": {
        "id": "XyeRZ6e6nfuo",
        "outputId": "7b7df8a3-35d3-4ec6-a0f0-688232c40c5c",
        "colab": {
          "base_uri": "https://localhost:8080/"
        }
      },
      "execution_count": 12,
      "outputs": [
        {
          "output_type": "stream",
          "name": "stdout",
          "text": [
            "3.14\n"
          ]
        }
      ]
    },
    {
      "cell_type": "code",
      "source": [
        "#float.hex()\n",
        "f = 3.14\n",
        "print(f.hex())"
      ],
      "metadata": {
        "id": "JpPWt9SvoSqz",
        "outputId": "f6f9cc8f-a2f7-4706-b21d-aa4fc74c7513",
        "colab": {
          "base_uri": "https://localhost:8080/"
        }
      },
      "execution_count": 13,
      "outputs": [
        {
          "output_type": "stream",
          "name": "stdout",
          "text": [
            "0x1.91eb851eb851fp+1\n"
          ]
        }
      ]
    },
    {
      "cell_type": "code",
      "source": [
        "#float.is_integer()\n",
        "print((4.5).is_integer())\n"
      ],
      "metadata": {
        "id": "HxF1yLafoeQv",
        "outputId": "aa7814c0-b0a9-4511-9fb7-c288d414b29a",
        "colab": {
          "base_uri": "https://localhost:8080/"
        }
      },
      "execution_count": 19,
      "outputs": [
        {
          "output_type": "stream",
          "name": "stdout",
          "text": [
            "False\n"
          ]
        }
      ]
    },
    {
      "cell_type": "code",
      "source": [
        "#float._abs_()\n",
        "f = -7.3\n",
        "print(f.__abs__())\n",
        "print(abs(f))"
      ],
      "metadata": {
        "id": "9q1CHbsfpBEV",
        "outputId": "cd79541a-6c99-4731-c423-8b89d1a13138",
        "colab": {
          "base_uri": "https://localhost:8080/"
        }
      },
      "execution_count": 20,
      "outputs": [
        {
          "output_type": "stream",
          "name": "stdout",
          "text": [
            "7.3\n",
            "7.3\n"
          ]
        }
      ]
    },
    {
      "cell_type": "code",
      "source": [
        "#float.__add__ , __sub__ , __mul__ , __truediv__(other) , __floordiv__(other) , __mod__(other) , __pow__(other) , __round__(n) ,\n",
        "a = 5.5\n",
        "b = 2.2\n",
        "c = 10.7\n",
        "d = 4.2\n",
        "e = 3.0\n",
        "f = 4.757953\n",
        "print(a.__add__(b))\n",
        "print(c.__sub__(b))\n",
        "print(a.__mul__(d))\n",
        "print(c.__truediv__(b))\n",
        "print(a.__floordiv__(b))\n",
        "print(d.__mod__(b))\n",
        "print(c.__pow__(e))\n",
        "print(f.__round__(2))"
      ],
      "metadata": {
        "id": "vmtkRamkpU8O",
        "outputId": "a0834b94-c95d-47d3-8ecb-902c29280894",
        "colab": {
          "base_uri": "https://localhost:8080/"
        }
      },
      "execution_count": 26,
      "outputs": [
        {
          "output_type": "stream",
          "name": "stdout",
          "text": [
            "7.7\n",
            "8.5\n",
            "23.1\n",
            "4.863636363636363\n",
            "2.0\n",
            "2.0\n",
            "1225.0429999999997\n",
            "4.76\n"
          ]
        }
      ]
    },
    {
      "cell_type": "markdown",
      "source": [
        "#COMPLEX"
      ],
      "metadata": {
        "id": "U5n6jHdArhVs"
      }
    },
    {
      "cell_type": "code",
      "source": [
        "#Complex no creation\n",
        "z = complex(2,3)\n",
        "print(z)\n",
        "z = complex(2,-3)\n",
        "print(z)\n",
        "z = complex(2,0)\n",
        "print(z)\n",
        "z = complex(0,3)\n",
        "print(z)"
      ],
      "metadata": {
        "id": "M_8OjOaCr5en",
        "outputId": "c8dc9ad5-1e42-4c1b-b6a0-f455b918ffc1",
        "colab": {
          "base_uri": "https://localhost:8080/"
        }
      },
      "execution_count": 2,
      "outputs": [
        {
          "output_type": "stream",
          "name": "stdout",
          "text": [
            "(2+3j)\n",
            "(2-3j)\n",
            "(2+0j)\n",
            "3j\n"
          ]
        }
      ]
    },
    {
      "cell_type": "code",
      "source": [
        "# Arithmetic\n",
        "z1 = complex(4,3)\n",
        "z2 = complex(2,-5)\n",
        "print(z1+z2)\n",
        "print(z1-z2)\n",
        "print(z1*z2)\n",
        "print(z1/z2)"
      ],
      "metadata": {
        "id": "uVSMJDhh9I0A",
        "outputId": "02fbd5b9-281d-4988-e445-b4c1fabac972",
        "colab": {
          "base_uri": "https://localhost:8080/"
        }
      },
      "execution_count": 3,
      "outputs": [
        {
          "output_type": "stream",
          "name": "stdout",
          "text": [
            "(6-2j)\n",
            "(2+8j)\n",
            "(23-14j)\n",
            "(-0.24137931034482757+0.896551724137931j)\n"
          ]
        }
      ]
    },
    {
      "cell_type": "code",
      "source": [
        "#Accessing real , imaginary , conjugate , abs(), complex and pow()\n",
        "z1 = complex(4,3)\n",
        "z2 = complex(2,-5)\n",
        "print(\"real function of complex method\", z1.real)\n",
        "print(\"imaginary function of complex method\",z2.imag)\n",
        "print(\"conjugate function of complex method\",z1.conjugate())\n",
        "print(\"abs function of complex method\",abs(z1))\n",
        "print(\"complex function of complex method\",complex(z1))\n",
        "print(\"pow function of complex method\",pow(z1,3))"
      ],
      "metadata": {
        "id": "cOKTm6s19-kX",
        "outputId": "9fda30c0-b407-4565-a4bf-6d212e5ef567",
        "colab": {
          "base_uri": "https://localhost:8080/"
        }
      },
      "execution_count": 15,
      "outputs": [
        {
          "output_type": "stream",
          "name": "stdout",
          "text": [
            "real function of complex method 4.0\n",
            "imaginary function of complex method -5.0\n",
            "conjugate function of complex method (4-3j)\n",
            "abs function of complex method 5.0\n",
            "complex function of complex method (4+3j)\n",
            "pow function of complex method (-44+117j)\n"
          ]
        }
      ]
    },
    {
      "cell_type": "markdown",
      "source": [],
      "metadata": {
        "id": "PatEtSP2-yq_"
      }
    },
    {
      "cell_type": "markdown",
      "source": [
        "#list"
      ],
      "metadata": {
        "id": "m4VamYknDjw4"
      }
    },
    {
      "cell_type": "code",
      "source": [
        "#Append\n",
        "a = [1,4,6,8]\n",
        "a.append(7)\n",
        "print(a)"
      ],
      "metadata": {
        "id": "nHKU2UsO-kuh",
        "outputId": "506d073a-b7c7-4376-ae36-d45c5b5de9d5",
        "colab": {
          "base_uri": "https://localhost:8080/"
        }
      },
      "execution_count": 28,
      "outputs": [
        {
          "output_type": "stream",
          "name": "stdout",
          "text": [
            "[1, 4, 6, 8, 7]\n"
          ]
        }
      ]
    },
    {
      "cell_type": "code",
      "source": [
        "#Extend\n",
        "a.extend([9,10,11])\n",
        "print(a)"
      ],
      "metadata": {
        "id": "fDi9mIpTEU7A",
        "outputId": "090277fc-3766-45c1-b31a-2db18cec014b",
        "colab": {
          "base_uri": "https://localhost:8080/"
        }
      },
      "execution_count": 29,
      "outputs": [
        {
          "output_type": "stream",
          "name": "stdout",
          "text": [
            "[1, 4, 6, 8, 7, 9, 10, 11]\n"
          ]
        }
      ]
    },
    {
      "cell_type": "code",
      "source": [
        "#Insert\n",
        "a.insert(2,5)\n",
        "print(a)"
      ],
      "metadata": {
        "id": "w2Ny5GwiEqv9",
        "outputId": "f2e576f7-b511-41b9-92c1-96e3c18e31f6",
        "colab": {
          "base_uri": "https://localhost:8080/"
        }
      },
      "execution_count": 30,
      "outputs": [
        {
          "output_type": "stream",
          "name": "stdout",
          "text": [
            "[1, 4, 5, 6, 8, 7, 9, 10, 11]\n"
          ]
        }
      ]
    },
    {
      "cell_type": "code",
      "source": [
        "#Remove\n",
        "a.remove(11)\n",
        "print(a)"
      ],
      "metadata": {
        "id": "iZY6pulFFIWO",
        "outputId": "3c813d5e-8d37-423d-84ca-73f0d00ec3ef",
        "colab": {
          "base_uri": "https://localhost:8080/"
        }
      },
      "execution_count": 31,
      "outputs": [
        {
          "output_type": "stream",
          "name": "stdout",
          "text": [
            "[1, 4, 5, 6, 8, 7, 9, 10]\n"
          ]
        }
      ]
    },
    {
      "cell_type": "code",
      "source": [
        "#Pop()\n",
        "b = a.pop()\n",
        "print(\"Before pop\",a)\n",
        "print(\"After pop\",b)"
      ],
      "metadata": {
        "id": "SafwNipCFf0R",
        "outputId": "b14caba9-dff6-4426-fb6d-ca10e0d17e6b",
        "colab": {
          "base_uri": "https://localhost:8080/"
        }
      },
      "execution_count": 32,
      "outputs": [
        {
          "output_type": "stream",
          "name": "stdout",
          "text": [
            "Before pop [1, 4, 5, 6, 8, 7, 9]\n",
            "After pop 10\n"
          ]
        }
      ]
    },
    {
      "cell_type": "code",
      "source": [
        "#Index\n",
        "print(a.index(4))"
      ],
      "metadata": {
        "id": "cHTNqmXfGL09",
        "outputId": "15feaeca-5f79-4117-aff3-346a70364fc3",
        "colab": {
          "base_uri": "https://localhost:8080/"
        }
      },
      "execution_count": 34,
      "outputs": [
        {
          "output_type": "stream",
          "name": "stdout",
          "text": [
            "1\n"
          ]
        }
      ]
    },
    {
      "cell_type": "code",
      "source": [
        "#Count\n",
        "c = [3,5,7,3,4,6,5,5]\n",
        "print(c.count(5))"
      ],
      "metadata": {
        "id": "oX3cl36FGWxN",
        "outputId": "273cc58c-98c0-4396-8a6c-b72a17c8d37f",
        "colab": {
          "base_uri": "https://localhost:8080/"
        }
      },
      "execution_count": 36,
      "outputs": [
        {
          "output_type": "stream",
          "name": "stdout",
          "text": [
            "3\n"
          ]
        }
      ]
    },
    {
      "cell_type": "code",
      "source": [
        "#Sort\n",
        "s = [3,2,7,1,4,6,5,9]\n",
        "s.sort()\n",
        "print(s)"
      ],
      "metadata": {
        "id": "I6oEUpXDGxuw",
        "outputId": "23b65f2d-3bf3-442d-d39a-22d8ee27e613",
        "colab": {
          "base_uri": "https://localhost:8080/"
        }
      },
      "execution_count": 43,
      "outputs": [
        {
          "output_type": "stream",
          "name": "stdout",
          "text": [
            "[1, 2, 3, 4, 5, 6, 7, 9]\n"
          ]
        }
      ]
    },
    {
      "cell_type": "code",
      "source": [
        "#Reverse\n",
        "s.reverse()\n",
        "print(s)"
      ],
      "metadata": {
        "id": "XK1vTKyJHSCe",
        "outputId": "22576a5c-15fc-4572-847d-7c372ae00616",
        "colab": {
          "base_uri": "https://localhost:8080/"
        }
      },
      "execution_count": 47,
      "outputs": [
        {
          "output_type": "stream",
          "name": "stdout",
          "text": [
            "[1, 2, 3, 4, 5, 6, 7, 9]\n"
          ]
        }
      ]
    },
    {
      "cell_type": "code",
      "source": [
        "#Copy\n",
        "d = s.copy()\n",
        "print(d)"
      ],
      "metadata": {
        "id": "5wqTwmTKHsEI",
        "outputId": "6d518202-cc41-4875-a0aa-a6f0be2b33b0",
        "colab": {
          "base_uri": "https://localhost:8080/"
        }
      },
      "execution_count": 48,
      "outputs": [
        {
          "output_type": "stream",
          "name": "stdout",
          "text": [
            "[1, 2, 3, 4, 5, 6, 7, 9]\n"
          ]
        }
      ]
    },
    {
      "cell_type": "code",
      "source": [
        "#Clear\n",
        "a.clear()\n",
        "print(a)"
      ],
      "metadata": {
        "id": "PU_7IhLWGDgv",
        "outputId": "34d008e3-ae8f-4bf4-f726-438058cc6a01",
        "colab": {
          "base_uri": "https://localhost:8080/"
        }
      },
      "execution_count": 49,
      "outputs": [
        {
          "output_type": "stream",
          "name": "stdout",
          "text": [
            "[]\n"
          ]
        }
      ]
    },
    {
      "cell_type": "code",
      "source": [
        "#Length, Maximum, Minimum And sum\n",
        "z = [6.,97,43,0,7,2,5,78,45,]\n",
        "print(\"Length of list \",len(z))\n",
        "print(\"Maximum of list \",max(z))\n",
        "print(\"Minimum of list \",min(z))\n",
        "print(\"sum of list \",sum(z))"
      ],
      "metadata": {
        "id": "0uTXK5_dH6Dc",
        "outputId": "973d11db-0c6f-4448-df4f-8c4f47d2231d",
        "colab": {
          "base_uri": "https://localhost:8080/"
        }
      },
      "execution_count": 52,
      "outputs": [
        {
          "output_type": "stream",
          "name": "stdout",
          "text": [
            "Length of list  9\n",
            "Maximum of list  97\n",
            "Minimum of list  0\n",
            "sum of list  283.0\n"
          ]
        }
      ]
    },
    {
      "cell_type": "markdown",
      "source": [
        "#TUPLES"
      ],
      "metadata": {
        "id": "pum0I94aJhXv"
      }
    },
    {
      "cell_type": "code",
      "source": [
        "#Count\n",
        "t = (3,5,7,3,4,6,5,5)\n",
        "print(t.count(5))"
      ],
      "metadata": {
        "id": "fCTKfnxSJlUU",
        "outputId": "8128ed73-08e5-4ed5-c670-fe5d74ddfe03",
        "colab": {
          "base_uri": "https://localhost:8080/"
        }
      },
      "execution_count": 53,
      "outputs": [
        {
          "output_type": "stream",
          "name": "stdout",
          "text": [
            "3\n"
          ]
        }
      ]
    },
    {
      "cell_type": "code",
      "source": [
        "#Index\n",
        "print(t.index(6))"
      ],
      "metadata": {
        "id": "yikRj5jfJqNa",
        "outputId": "0ff8b6ff-4f45-488b-d099-888cf99910d8",
        "colab": {
          "base_uri": "https://localhost:8080/"
        }
      },
      "execution_count": 54,
      "outputs": [
        {
          "output_type": "stream",
          "name": "stdout",
          "text": [
            "5\n"
          ]
        }
      ]
    },
    {
      "cell_type": "code",
      "source": [
        "# Length , Maximum , Minimum ans Sum\n",
        "print(\"Length of tuple \",len(t))\n",
        "print(\"Maximum of tuple \",max(t))\n",
        "print(\"Minimum of tuple \",min(t))\n",
        "print(\"sum of tuple \",sum(t))"
      ],
      "metadata": {
        "id": "K28nnZnaJ9Cm",
        "outputId": "9112cf4d-0dfb-40cd-a170-3df3967c05a1",
        "colab": {
          "base_uri": "https://localhost:8080/"
        }
      },
      "execution_count": 56,
      "outputs": [
        {
          "output_type": "stream",
          "name": "stdout",
          "text": [
            "Length of tuple  8\n",
            "Maximum of tuple  7\n",
            "Minimum of tuple  3\n",
            "sum of tuple  38\n"
          ]
        }
      ]
    },
    {
      "cell_type": "code",
      "source": [
        "#Sorted\n",
        "print(sorted(t))"
      ],
      "metadata": {
        "id": "Buoy9ViWKoW-",
        "outputId": "d2d20fdf-ea6c-402a-8eff-cec7ec2c4cd6",
        "colab": {
          "base_uri": "https://localhost:8080/"
        }
      },
      "execution_count": 57,
      "outputs": [
        {
          "output_type": "stream",
          "name": "stdout",
          "text": [
            "[3, 3, 4, 5, 5, 5, 6, 7]\n"
          ]
        }
      ]
    },
    {
      "cell_type": "code",
      "source": [
        "#All and Any\n",
        "x = (0, False, 1 )\n",
        "print(\"All bool_tuple in tuples\",all(x))\n",
        "print(\"Any bool_tuple in tuples\",any(x))\n"
      ],
      "metadata": {
        "id": "E2SdKqCSK07K",
        "outputId": "ee22b66a-56a9-4481-8407-afbe4903db6d",
        "colab": {
          "base_uri": "https://localhost:8080/"
        }
      },
      "execution_count": 60,
      "outputs": [
        {
          "output_type": "stream",
          "name": "stdout",
          "text": [
            "All bool_tuple in tuples False\n",
            "Any bool_tuple in tuples True\n"
          ]
        }
      ]
    },
    {
      "cell_type": "code",
      "source": [
        "#Concatenation\n",
        "print((1,2,3) + (4,5,6))"
      ],
      "metadata": {
        "id": "XKHI_B69Lrjz",
        "outputId": "9e2d7b12-a2f1-4d93-ee5c-3f9241c2596c",
        "colab": {
          "base_uri": "https://localhost:8080/"
        }
      },
      "execution_count": 61,
      "outputs": [
        {
          "output_type": "stream",
          "name": "stdout",
          "text": [
            "(1, 2, 3, 4, 5, 6)\n"
          ]
        }
      ]
    },
    {
      "cell_type": "code",
      "source": [
        "#Repetition\n",
        "t1 = (1,2,3)\n",
        "print(t1*3)"
      ],
      "metadata": {
        "id": "ByKqiazhL5O0",
        "outputId": "6b0ea954-950d-458f-df8d-b884101f2a38",
        "colab": {
          "base_uri": "https://localhost:8080/"
        }
      },
      "execution_count": 62,
      "outputs": [
        {
          "output_type": "stream",
          "name": "stdout",
          "text": [
            "(1, 2, 3, 1, 2, 3, 1, 2, 3)\n"
          ]
        }
      ]
    },
    {
      "cell_type": "code",
      "source": [
        "#Membership Testing\n",
        "print(2 in t1)"
      ],
      "metadata": {
        "id": "82Nx0kVeMJm_",
        "outputId": "23aff914-6b5a-4615-b0b3-08660be54a6d",
        "colab": {
          "base_uri": "https://localhost:8080/"
        }
      },
      "execution_count": 63,
      "outputs": [
        {
          "output_type": "stream",
          "name": "stdout",
          "text": [
            "True\n"
          ]
        }
      ]
    },
    {
      "cell_type": "code",
      "source": [
        "#Tuple Unpacking\n",
        "t2 = (1,2,3)\n",
        "a,b,c = t2\n",
        "print(\"A=\",a)\n",
        "print(\"B=\",b)\n",
        "print(\"C=\",c)"
      ],
      "metadata": {
        "id": "QC7CanD_MSbl",
        "outputId": "5f4f42ab-aea4-4158-fbce-8f33c17cff18",
        "colab": {
          "base_uri": "https://localhost:8080/"
        }
      },
      "execution_count": 66,
      "outputs": [
        {
          "output_type": "stream",
          "name": "stdout",
          "text": [
            "A= 1\n",
            "B= 2\n",
            "C= 3\n"
          ]
        }
      ]
    },
    {
      "cell_type": "markdown",
      "source": [
        "#STRING"
      ],
      "metadata": {
        "id": "nbmGSjMcMykX"
      }
    },
    {
      "cell_type": "code",
      "source": [
        "#Changing Case - Upper and Lower\n",
        "text = \"Here i come\"\n",
        "print(\"String in Upper Case\",text.upper())\n",
        "print(\"String in Lower Case\",text.lower())"
      ],
      "metadata": {
        "id": "SSEvpgqLM0jw",
        "outputId": "03753ae2-026d-46cb-a4a1-21e2cae2bdbb",
        "colab": {
          "base_uri": "https://localhost:8080/"
        }
      },
      "execution_count": 67,
      "outputs": [
        {
          "output_type": "stream",
          "name": "stdout",
          "text": [
            "String in Upper Case HERE I COME\n",
            "String in Lower Case here i come\n"
          ]
        }
      ]
    },
    {
      "cell_type": "code",
      "source": [
        "#Identify string case\n",
        "text1 = \"HERE I COME\"\n",
        "print(\"String in Upper Case\",text1.isupper())\n",
        "print(\"String in Lower Case\",text1.islower())"
      ],
      "metadata": {
        "id": "W6qJkmDyNVDo",
        "outputId": "305579dc-bbe4-48d9-c77f-5fa7dcc7680f",
        "colab": {
          "base_uri": "https://localhost:8080/"
        }
      },
      "execution_count": 68,
      "outputs": [
        {
          "output_type": "stream",
          "name": "stdout",
          "text": [
            "String in Upper Case True\n",
            "String in Lower Case False\n"
          ]
        }
      ]
    },
    {
      "cell_type": "code",
      "source": [
        "#Capitalize , title and swapecase\n",
        "text2 = \"here i come\"\n",
        "print(text2)\n",
        "print(\"String in Capitalize Case\",text2.capitalize())\n",
        "print(\"String in Title Case\",text2.title())\n",
        "text1 = \"HeRe I ComE\"\n",
        "print(text1)\n",
        "print(\"String in Swapecase Case\",text2.swapcase())\n"
      ],
      "metadata": {
        "id": "u0EsBoPeNpkv",
        "outputId": "f7c74c28-799c-4647-e8d2-d933ba4cfb83",
        "colab": {
          "base_uri": "https://localhost:8080/"
        }
      },
      "execution_count": 72,
      "outputs": [
        {
          "output_type": "stream",
          "name": "stdout",
          "text": [
            "here i come\n",
            "String in Capitalize Case Here i come\n",
            "String in Title Case Here I Come\n",
            "HeRe I ComE\n",
            "String in Swapecase Case HERE I COME\n"
          ]
        }
      ]
    },
    {
      "cell_type": "code",
      "source": [
        "#Searching and Finding\n",
        "text3 = \"all the way we goo\"\n",
        "print(\"find in string\",text3.find(\"way\"))\n",
        "print(\"index\",text3.index(\"the \"))\n",
        "print(\"find last index of a string \",text3.rfind(\"w\"))"
      ],
      "metadata": {
        "id": "MLGmx-e8OqE3",
        "outputId": "9361f99e-10d4-49b0-9dfb-977105525f01",
        "colab": {
          "base_uri": "https://localhost:8080/"
        }
      },
      "execution_count": 4,
      "outputs": [
        {
          "output_type": "stream",
          "name": "stdout",
          "text": [
            "find in string 8\n",
            "index 4\n",
            "find last index of a string  12\n"
          ]
        }
      ]
    },
    {
      "cell_type": "code",
      "source": [
        "#Count and String length\n",
        "text4 = \"the occurance of a string \"\n",
        "print(text3.count(\"o\"))\n",
        "print(len(text3))"
      ],
      "metadata": {
        "id": "keAIGyXBbWtP",
        "outputId": "1b75b931-460d-4a3c-868f-8d191ade8583",
        "colab": {
          "base_uri": "https://localhost:8080/"
        }
      },
      "execution_count": 52,
      "outputs": [
        {
          "output_type": "stream",
          "name": "stdout",
          "text": [
            "2\n",
            "18\n"
          ]
        }
      ]
    },
    {
      "cell_type": "code",
      "source": [
        "#Startwith and endswith\n",
        "print(\"string starts with\",text4.startswith(\"the\"))\n",
        "print(\"string starts with\",text4.startswith(\"of\"))\n",
        "print(\"string ends with\",text4.endswith(\"string\"))\n",
        "print(\"string ends with\",text4.endswith(\" \"))"
      ],
      "metadata": {
        "id": "96EdlVdgbtcM",
        "outputId": "f1581b6c-3b5e-46de-b896-b9e772cae548",
        "colab": {
          "base_uri": "https://localhost:8080/"
        }
      },
      "execution_count": 17,
      "outputs": [
        {
          "output_type": "stream",
          "name": "stdout",
          "text": [
            "string starts with True\n",
            "string starts with False\n",
            "string ends with False\n",
            "string ends with True\n"
          ]
        }
      ]
    },
    {
      "cell_type": "code",
      "source": [
        "#Modifying and Formatting :- strip(), lstrip(),rstring(), replace(), split(), rsplit(), join(),\n",
        "text5 = \" Python string comes in with build in functions \"\n",
        "text6 = \" and features\"\n",
        "print(text5)\n",
        "print(\"Strip function in String \", text5.strip())\n",
        "print(\"Strip function in String from left  \", text5.lstrip())\n",
        "print(\"Strip function in String from right \", text5.rstrip())\n",
        "print(\"Replace function in String\",text5.replace(\"function\",\"features\"))\n",
        "print(\"Split function in String \", text5.strip().split())\n",
        "print(\"Split function in String from rigt side \", text5.strip().rsplit())\n",
        "print(\"Join function in String \", text5.join(text6.split()))"
      ],
      "metadata": {
        "id": "67BzcS3-cU9G",
        "outputId": "9a9981ae-60a2-4fe1-f601-9865feabe10e",
        "colab": {
          "base_uri": "https://localhost:8080/"
        }
      },
      "execution_count": 32,
      "outputs": [
        {
          "output_type": "stream",
          "name": "stdout",
          "text": [
            " Python string comes in with build in functions \n",
            "Strip function in String  Python string comes in with build in functions\n",
            "Strip function in String from left   Python string comes in with build in functions \n",
            "Strip function in String from right   Python string comes in with build in functions\n",
            "Replace function in String  Python string comes in with build in featuress \n",
            "Split function in String  ['Python', 'string', 'comes', 'in', 'with', 'build', 'in', 'functions']\n",
            "Split function in String from rigt side  ['Python', 'string', 'comes', 'in', 'with', 'build', 'in', 'functions']\n",
            "Join function in String  and Python string comes in with build in functions features\n"
          ]
        }
      ]
    },
    {
      "cell_type": "code",
      "source": [
        "#Context checking :- isalnum(), isalpha(), isdigit(), isspace(), isupper()/islower(), istitle()\n",
        "a = \"my roll number is 2263xxxxx\"\n",
        "print(\"Is Alphanumeric in string\",a.isalnum())\n",
        "print(\"Is all characters in string\",a.isalpha())\n",
        "print(\"Is Digit in string\",a.isdigit())\n",
        "print(\"Is Space in string\",a.isspace())\n",
        "print(\"Is Title in string\",a.istitle())\n",
        "\n",
        "text9 = \"HERE I COME\"\n",
        "print(\"String in Upper Case\",text9.isupper())\n",
        "print(\"String in Lower Case\",text9.islower())"
      ],
      "metadata": {
        "id": "l-XhrzoXhkWp",
        "outputId": "8f2a0fa9-2206-42d8-95a6-5218c1e3b1a0",
        "colab": {
          "base_uri": "https://localhost:8080/"
        }
      },
      "execution_count": 39,
      "outputs": [
        {
          "output_type": "stream",
          "name": "stdout",
          "text": [
            "Is Alphanumeric in string False\n",
            "Is all characters in string False\n",
            "Is Digit in string False\n",
            "Is Space in string False\n",
            "Is Title in string False\n",
            "String in Upper Case True\n",
            "String in Lower Case False\n"
          ]
        }
      ]
    },
    {
      "cell_type": "code",
      "source": [
        "#Aligning :- center, ljust, rjust , zfill ,\n",
        "text10 = \"This file was updated remotely or in another tab.\"\n",
        "print(\"Center the String\", text10.center(55, \"-\"))\n",
        "print(\"left Align in the String\", text10.ljust(55, \"-\"))\n",
        "print(\"right Align in the String\", text10.rjust(55, \"-\"))\n",
        "print(\"Fill zero in the String from left= \", text10.zfill(55))\n"
      ],
      "metadata": {
        "id": "m1D2gPYblJL0",
        "outputId": "c83902e7-fda9-4dec-9da4-2e0fe93e133d",
        "colab": {
          "base_uri": "https://localhost:8080/"
        }
      },
      "execution_count": 47,
      "outputs": [
        {
          "output_type": "stream",
          "name": "stdout",
          "text": [
            "Center the String ---This file was updated remotely or in another tab.---\n",
            "left Align in the String This file was updated remotely or in another tab.------\n",
            "right Align in the String ------This file was updated remotely or in another tab.\n",
            "Fill zero in the String from left=  000000This file was updated remotely or in another tab.\n"
          ]
        }
      ]
    },
    {
      "cell_type": "code",
      "source": [
        "#Encoding and decoding\n",
        "b = \"All letters in this string are good letters.\"\n",
        "encode = b.encode(\"ascii\")\n",
        "print(encode)\n",
        "print(encode.decode(\"ascii\",))"
      ],
      "metadata": {
        "id": "zajZ_8vdn1Ae",
        "outputId": "54588610-d909-4df5-fa78-c0885cc4025c",
        "colab": {
          "base_uri": "https://localhost:8080/"
        }
      },
      "execution_count": 51,
      "outputs": [
        {
          "output_type": "stream",
          "name": "stdout",
          "text": [
            "b'All letters in this string are good letters.'\n",
            "All letters in this string are good letters.\n"
          ]
        }
      ]
    },
    {
      "cell_type": "markdown",
      "source": [
        "#SET"
      ],
      "metadata": {
        "id": "NRkaoUVfpQfQ"
      }
    },
    {
      "cell_type": "code",
      "source": [
        "# Adding and Removing of set :- add(), remove(), discard(), pop(), clear()\n",
        "set1 = {4,3,7,8,2,0}\n",
        "set.add(5)\n",
        "print(\"Adding in set\", set1)\n",
        "set1.remove(3)\n",
        "print(\"Removing in set\", set1)\n",
        "set1.discard(7)\n",
        "print(\"Discard in set\", set1)\n",
        "set1.pop()\n",
        "print(\"Pop in set\", set1)\n",
        "set1.clear()\n",
        "print(\"Clear in set\", set1)"
      ],
      "metadata": {
        "id": "x5VOG3yKpDZs",
        "outputId": "f176249f-ca95-4647-add9-7b87e86499e5",
        "colab": {
          "base_uri": "https://localhost:8080/"
        }
      },
      "execution_count": 56,
      "outputs": [
        {
          "output_type": "stream",
          "name": "stdout",
          "text": [
            "Adding in set {0, 2, 3, 4, 7, 8}\n",
            "Removing in set {0, 2, 4, 7, 8}\n",
            "Discard in set {0, 2, 4, 8}\n",
            "Pop in set {2, 4, 8}\n",
            "Clear in set set()\n"
          ]
        }
      ]
    },
    {
      "cell_type": "code",
      "source": [
        "# prompt: set operations\n",
        "\n",
        "# Set operations\n",
        "set1 = {1, 2, 3, 4, 5}\n",
        "set2 = {3, 4, 5, 6, 7}\n",
        "\n",
        "# Union\n",
        "union_set = set1 | set2\n",
        "print(\"Union:\", union_set)\n",
        "\n",
        "# Intersection\n",
        "intersection_set = set1 & set2\n",
        "print(\"Intersection:\", intersection_set)\n",
        "\n",
        "# Difference\n",
        "difference_set1 = set1 - set2\n",
        "print(\"Difference (set1 - set2):\", difference_set1)\n",
        "\n",
        "difference_set2 = set2 - set1\n",
        "print(\"Difference (set2 - set1):\", difference_set2)\n",
        "\n",
        "# Symmetric Difference\n",
        "symmetric_difference_set = set1 ^ set2\n",
        "print(\"Symmetric Difference:\", symmetric_difference_set)\n",
        "\n",
        "set3 = {1,2}\n",
        "# Subset\n",
        "print(\"Is set3 a subset of set1?\", set3.issubset(set1))\n",
        "\n",
        "# Superset\n",
        "print(\"Is set1 a superset of set3?\", set1.issuperset(set3))\n",
        "\n",
        "# Disjoint\n",
        "set4 = {8,9}\n",
        "print(\"Are set1 and set4 disjoint?\", set1.isdisjoint(set4))\n"
      ],
      "metadata": {
        "id": "d1Cp68Seq-mp",
        "outputId": "9c1d8d26-f8e9-4940-914e-4e29174ffb07",
        "colab": {
          "base_uri": "https://localhost:8080/"
        }
      },
      "execution_count": 57,
      "outputs": [
        {
          "output_type": "stream",
          "name": "stdout",
          "text": [
            "Union: {1, 2, 3, 4, 5, 6, 7}\n",
            "Intersection: {3, 4, 5}\n",
            "Difference (set1 - set2): {1, 2}\n",
            "Difference (set2 - set1): {6, 7}\n",
            "Symmetric Difference: {1, 2, 6, 7}\n",
            "Is set3 a subset of set1? True\n",
            "Is set1 a superset of set3? True\n",
            "Are set1 and set4 disjoint? True\n"
          ]
        }
      ]
    },
    {
      "cell_type": "code",
      "source": [
        "\n",
        "set1 = {1, 2, 3, 4, 5}\n",
        "set2 = {3, 4, 5, 6, 7}\n",
        "\n",
        "# update / union\n",
        "set1.update(set2)\n",
        "print(\"In-place Union:\", set1)\n",
        "\n",
        "\n",
        "# intersection\n",
        "set1.intersection_update(set2)\n",
        "print(\"In-place Intersection:\", set1)\n",
        "\n",
        "set1 = {1, 2, 3, 4, 5}\n",
        "set2 = {3, 4, 5, 6, 7}\n",
        "#difference\n",
        "set1.difference_update(set2)\n",
        "print(\"In-place Difference (set1 - set2):\", set1)\n",
        "\n",
        "#symmetric difference\n",
        "set1.symmetric_difference_update(set2)\n",
        "print(\"In-place Symmetric Difference:\", set1)\n"
      ],
      "metadata": {
        "id": "gRfnKrlRrkQF",
        "outputId": "aa1145fe-7f37-435f-ceb1-8f64b856c012",
        "colab": {
          "base_uri": "https://localhost:8080/"
        }
      },
      "execution_count": 59,
      "outputs": [
        {
          "output_type": "stream",
          "name": "stdout",
          "text": [
            "In-place Union: {1, 2, 3, 4, 5, 6, 7}\n",
            "In-place Intersection: {3, 4, 5, 6, 7}\n",
            "In-place Difference (set1 - set2): {1, 2}\n",
            "In-place Symmetric Difference: {1, 2, 4, 3, 5, 6, 7}\n"
          ]
        }
      ]
    },
    {
      "cell_type": "code",
      "source": [
        "#Set Comparision :- issubset(), issuperset(), isdisjoint()\n",
        "set1 = {1, 2, 3, 4, 5}\n",
        "set2 = {3, 4, 5, 6, 7}\n",
        "set3 = {1,2}\n",
        "print(\"Is set3 a subset of set1?\", set3.issubset(set1))\n",
        "print(\"Is set1 a superset of set3?\", set1.issuperset(set3))\n",
        "print(\"Are set1 and set4 disjoint?\", set1.isdisjoint(set2))"
      ],
      "metadata": {
        "id": "Q2u53sO-sp8w",
        "outputId": "5e9f2ba4-96bf-491d-d39f-c4bc7f6e7e39",
        "colab": {
          "base_uri": "https://localhost:8080/"
        }
      },
      "execution_count": 60,
      "outputs": [
        {
          "output_type": "stream",
          "name": "stdout",
          "text": [
            "Is set3 a subset of set1? True\n",
            "Is set1 a superset of set3? True\n",
            "Are set1 and set4 disjoint? False\n"
          ]
        }
      ]
    },
    {
      "cell_type": "code",
      "source": [
        "#Copying and Length\n",
        "set_copy = set1.copy()\n",
        "print(\"Copy of set\", set_copy)\n",
        "print(\"Length of set\", len(set1))"
      ],
      "metadata": {
        "id": "dguBRG06tLh0",
        "outputId": "1adc3694-4187-4fa8-fea0-ee163430f3b9",
        "colab": {
          "base_uri": "https://localhost:8080/"
        }
      },
      "execution_count": 61,
      "outputs": [
        {
          "output_type": "stream",
          "name": "stdout",
          "text": [
            "Copy of set {1, 2, 3, 4, 5}\n",
            "Length of set 5\n"
          ]
        }
      ]
    },
    {
      "cell_type": "code",
      "source": [
        "#Membership :- in, and not in\n",
        "print(1 in set1)\n",
        "print(8 not in set1)"
      ],
      "metadata": {
        "id": "aOVS70rVtbL1",
        "outputId": "d38ddc45-d2d9-4520-8c29-279e52480101",
        "colab": {
          "base_uri": "https://localhost:8080/"
        }
      },
      "execution_count": 62,
      "outputs": [
        {
          "output_type": "stream",
          "name": "stdout",
          "text": [
            "True\n",
            "True\n"
          ]
        }
      ]
    },
    {
      "cell_type": "markdown",
      "source": [
        "#DICTIONARY"
      ],
      "metadata": {
        "id": "xTMtTFhrt614"
      }
    },
    {
      "cell_type": "code",
      "source": [
        "\n",
        "\n",
        "#items()\n",
        "my_dict = {\"a\": 1, \"b\": 2}\n",
        "print(f\"items(): {my_dict.items()}\")\n",
        "\n",
        "\n",
        "\n",
        "\n",
        "\n"
      ],
      "metadata": {
        "id": "Xs0NHd1dt3uK",
        "outputId": "8fc09528-4f63-47e1-8c5b-4452caef4373",
        "colab": {
          "base_uri": "https://localhost:8080/"
        }
      },
      "execution_count": 1,
      "outputs": [
        {
          "output_type": "stream",
          "name": "stdout",
          "text": [
            "copy(): {'a': 1, 'b': 2}\n",
            "fromkeys(): {'a': 0, 'b': 0, 'c': 0}\n",
            "get(): 1\n",
            "get(): 0\n",
            "items(): dict_items([('a', 1), ('b', 2)])\n",
            "keys(): dict_keys(['a', 'b'])\n",
            "pop(): 1\n",
            "{'b': 2}\n",
            "popitem(): ('b', 2)\n",
            "setdefault(): {'a': 1, 'b': 2, 'c': 3}\n",
            "update(): {'a': 1, 'b': 2, 'c': 3, 'd': 4}\n",
            "values(): dict_values([1, 2])\n",
            "clear(): {}\n"
          ]
        }
      ]
    },
    {
      "cell_type": "code",
      "source": [
        "#Accessing and Retrievaing\n",
        "my_dict = {\"a\": 1, \"b\": 2, \"c\": \"Alice\", \"d\":\"Charlie\"}\n",
        "\n",
        "#get(key, default=None)\n",
        "print(f\"get(): {my_dict.get('a', 0)}\")\n",
        "print(f\"get(): {my_dict.get('c', 0)}\")\n",
        "\n",
        "#keys()\n",
        "print(f\"keys(): {my_dict.keys()}\")\n",
        "\n",
        "# values()\n",
        "print(f\"values(): {my_dict.values()}\")"
      ],
      "metadata": {
        "id": "G6qxDxZTBj7r",
        "outputId": "cefc243c-e0c7-483c-91b0-492dcc045af0",
        "colab": {
          "base_uri": "https://localhost:8080/"
        }
      },
      "execution_count": 5,
      "outputs": [
        {
          "output_type": "stream",
          "name": "stdout",
          "text": [
            "get(): 1\n",
            "get(): Alice\n",
            "keys(): dict_keys(['a', 'b', 'c', 'd'])\n",
            "values(): dict_values([1, 2, 'Alice', 'Charlie'])\n"
          ]
        }
      ]
    },
    {
      "cell_type": "code",
      "source": [
        "#Adding, Updating and Removing\n",
        "my_dict1 = {\"A\": 1, \"B\": 2, \"C\": \"Alice\", \"D\":\"Charlie\", \"E\":0 }\n",
        "# update([other]).\n",
        "print(f\"update(): {my_dict}\")\n",
        "\n",
        "my_dict[\"e\"] = 5\n",
        "print(f\"update(): {my_dict}\")\n",
        "\n",
        "# pop(key[, default]).\n",
        "print(f\"pop(): {my_dict.pop('E', 0)}\")\n",
        "print(my_dict)\n",
        "\n",
        "# popitem()\n",
        "item = my_dict.popitem()\n",
        "print(f\"popitem(): {item}\")\n",
        "print(my_dict)\n",
        "\n",
        "# clear()\n",
        "my_dict.clear()\n",
        "print(f\"clear(): {my_dict}\")\n",
        "\n",
        "#del\n",
        "my_dict = {\"A\": 1, \"B\": 2, \"C\": \"Alice\", \"D\":\"Charlie\", \"E\":0 }\n",
        "del my_dict['A']\n",
        "print(f\"del: {my_dict}\")\n",
        "\n",
        "\n"
      ],
      "metadata": {
        "id": "JtV0j9xdJlki",
        "outputId": "af760e1b-262d-4519-c5e2-7c7a6d3c199b",
        "colab": {
          "base_uri": "https://localhost:8080/"
        }
      },
      "execution_count": 33,
      "outputs": [
        {
          "output_type": "stream",
          "name": "stdout",
          "text": [
            "update(): {'B': 2, 'C': 'Alice', 'D': 'Charlie'}\n",
            "update(): {'B': 2, 'C': 'Alice', 'D': 'Charlie', 'e': 5}\n",
            "pop(): 0\n",
            "{'B': 2, 'C': 'Alice', 'D': 'Charlie', 'e': 5}\n",
            "popitem(): ('e', 5)\n",
            "{'B': 2, 'C': 'Alice', 'D': 'Charlie'}\n",
            "clear(): {}\n",
            "del: {'B': 2, 'C': 'Alice', 'D': 'Charlie', 'E': 0}\n"
          ]
        }
      ]
    },
    {
      "cell_type": "code",
      "source": [
        "#Creating and Copying\n",
        "\n",
        "my_dict = {\"A\": 1, \"B\": 2, \"C\": \"Alice\", \"D\":\"Charlie\", \"E\":0 }\n",
        "\n",
        "#  copy()\n",
        "copied_dict = my_dict.copy()\n",
        "print(f\"copy(): {copied_dict}\")\n",
        "\n",
        "\n",
        "#fromkeys(iterable, value=None)\n",
        "keys = [\"a\", \"b\", \"c\"]\n",
        "new_dict = dict.fromkeys(keys, 0)\n",
        "print(f\"fromkeys(): {new_dict}\")"
      ],
      "metadata": {
        "id": "i1tmhuqSN6xg",
        "outputId": "384d8da6-b5e9-471a-8063-74b2ce74b3dd",
        "colab": {
          "base_uri": "https://localhost:8080/"
        }
      },
      "execution_count": 34,
      "outputs": [
        {
          "output_type": "stream",
          "name": "stdout",
          "text": [
            "copy(): {'A': 1, 'B': 2, 'C': 'Alice', 'D': 'Charlie', 'E': 0}\n",
            "fromkeys(): {'a': 0, 'b': 0, 'c': 0}\n"
          ]
        }
      ]
    },
    {
      "cell_type": "code",
      "source": [
        "#Checking and Handling\n",
        "\n",
        "my_dict = {\"A\": 1, \"B\": 2, \"C\": \"Alice\", \"D\":\"Charlie\", \"E\":0 }\n",
        "\n",
        "#setdefault(key, default=None)\n",
        "my_dict.setdefault(\"F\", 3)\n",
        "print(f\"setdefault(): {my_dict}\")\n"
      ],
      "metadata": {
        "id": "lyNnSg8rO1dg",
        "outputId": "356d545f-c90e-4075-a7f2-e586a24931e8",
        "colab": {
          "base_uri": "https://localhost:8080/"
        }
      },
      "execution_count": 39,
      "outputs": [
        {
          "output_type": "stream",
          "name": "stdout",
          "text": [
            "setdefault(): {'A': 1, 'B': 2, 'C': 'Alice', 'D': 'Charlie', 'E': 0, 'F': 3}\n"
          ]
        }
      ]
    },
    {
      "cell_type": "code",
      "source": [
        "#Membership\n",
        "print(\"A\" in my_dict)\n",
        "print(\"F\" not in my_dict)"
      ],
      "metadata": {
        "id": "0xR4a7CjPzZ2",
        "outputId": "2ee85828-c079-4678-edc2-aeee5c50883b",
        "colab": {
          "base_uri": "https://localhost:8080/"
        }
      },
      "execution_count": 40,
      "outputs": [
        {
          "output_type": "stream",
          "name": "stdout",
          "text": [
            "True\n",
            "False\n"
          ]
        }
      ]
    },
    {
      "cell_type": "code",
      "source": [
        "#Dictionary length\n",
        "print(len(my_dict))"
      ],
      "metadata": {
        "id": "ng6lRD34P88H",
        "outputId": "3b13d720-58a9-4ec0-acc1-0859ce136c86",
        "colab": {
          "base_uri": "https://localhost:8080/"
        }
      },
      "execution_count": 41,
      "outputs": [
        {
          "output_type": "stream",
          "name": "stdout",
          "text": [
            "6\n"
          ]
        }
      ]
    },
    {
      "cell_type": "markdown",
      "source": [
        "#BOOLEAN"
      ],
      "metadata": {
        "id": "get9F4iHQfxM"
      }
    },
    {
      "cell_type": "code",
      "source": [
        "#Behaviour\n",
        "print(int(True))\n",
        "print(int(False))\n",
        "print(bool(0))\n",
        "print(bool(1))"
      ],
      "metadata": {
        "id": "tAzww5O1QiLr",
        "outputId": "f368b86c-23a4-46c3-9ee4-c80a1d884254",
        "colab": {
          "base_uri": "https://localhost:8080/"
        }
      },
      "execution_count": 42,
      "outputs": [
        {
          "output_type": "stream",
          "name": "stdout",
          "text": [
            "1\n",
            "0\n",
            "False\n",
            "True\n"
          ]
        }
      ]
    },
    {
      "cell_type": "code",
      "source": [
        "#Operation:- and , or , not\n",
        "print(True and False)\n",
        "print(True or False)\n",
        "print(not True)"
      ],
      "metadata": {
        "id": "B8n4xmE1Qvn1",
        "outputId": "4fefa8c8-d096-4cf2-d002-87137ead056c",
        "colab": {
          "base_uri": "https://localhost:8080/"
        }
      },
      "execution_count": 43,
      "outputs": [
        {
          "output_type": "stream",
          "name": "stdout",
          "text": [
            "False\n",
            "True\n",
            "False\n"
          ]
        }
      ]
    },
    {
      "cell_type": "code",
      "source": [
        "#Conversion\n",
        "\n",
        "#bool()\n",
        "print(bool(\"Hello Nikki\"))\n",
        "\n",
        "#int()\n",
        "print(int(True))\n",
        "print(int(False))\n",
        "\n",
        "#str()\n",
        "print(str(True))\n",
        "print(str(False))"
      ],
      "metadata": {
        "id": "FtNwylCyQ9Xv",
        "outputId": "af993e58-7268-4771-f5ec-66c4b59e8337",
        "colab": {
          "base_uri": "https://localhost:8080/"
        }
      },
      "execution_count": 46,
      "outputs": [
        {
          "output_type": "stream",
          "name": "stdout",
          "text": [
            "True\n",
            "1\n",
            "0\n",
            "True\n",
            "False\n"
          ]
        }
      ]
    },
    {
      "cell_type": "code",
      "source": [
        "#Comparision operators :- == , != , > , < , >= , <=\n",
        "print(True == False)\n",
        "print(True != False)\n",
        "print(45 > 67)\n",
        "print(73 < 78)\n",
        "print(67 >= 88)\n",
        "print(80<= 85)"
      ],
      "metadata": {
        "id": "yVeR-mX9SC8k",
        "outputId": "b8bb88dd-5569-4bf0-8631-5cf1b72576ef",
        "colab": {
          "base_uri": "https://localhost:8080/"
        }
      },
      "execution_count": 49,
      "outputs": [
        {
          "output_type": "stream",
          "name": "stdout",
          "text": [
            "False\n",
            "True\n",
            "False\n",
            "True\n",
            "False\n",
            "True\n"
          ]
        }
      ]
    },
    {
      "cell_type": "code",
      "source": [
        "#Subclasses of Ineger\n",
        "\n",
        "#bit_length()\n",
        "print((True).bit_length())\n",
        "print((False).bit_length())\n",
        "\n",
        "#Conjugate()\n",
        "print((True).conjugate())\n",
        "print((False).conjugate())\n",
        "\n",
        "#denominator()\n",
        "print((True).denominator)\n",
        "print((False).denominator)\n",
        "\n",
        "#numerator()\n",
        "print((True).numerator)\n",
        "print((False).numerator)"
      ],
      "metadata": {
        "id": "e0BmFP6ISuhM",
        "outputId": "8675f4dc-de34-473f-eaa6-a276f694111d",
        "colab": {
          "base_uri": "https://localhost:8080/"
        }
      },
      "execution_count": 50,
      "outputs": [
        {
          "output_type": "stream",
          "name": "stdout",
          "text": [
            "1\n",
            "0\n",
            "1\n",
            "0\n",
            "1\n",
            "1\n",
            "1\n",
            "0\n"
          ]
        }
      ]
    },
    {
      "cell_type": "code",
      "source": [],
      "metadata": {
        "id": "SNrfYUBRTWJ1"
      },
      "execution_count": null,
      "outputs": []
    }
  ]
}